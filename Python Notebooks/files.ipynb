{
 "cells": [
  {
   "cell_type": "code",
   "execution_count": 1,
   "metadata": {},
   "outputs": [
    {
     "name": "stdout",
     "output_type": "stream",
     "text": [
      "<_io.TextIOWrapper name='mbox.txt' mode='r' encoding='UTF-8'>\n"
     ]
    }
   ],
   "source": [
    "#opening files\n",
    "fhand = open('mbox.txt')\n",
    "print(fhand)\n"
   ]
  },
  {
   "cell_type": "code",
   "execution_count": 2,
   "metadata": {},
   "outputs": [
    {
     "name": "stdout",
     "output_type": "stream",
     "text": [
      "Hello\n",
      "World!\n"
     ]
    }
   ],
   "source": [
    "stuff = 'Hello\\nWorld!'\n",
    "print(stuff)"
   ]
  },
  {
   "cell_type": "code",
   "execution_count": 3,
   "metadata": {},
   "outputs": [
    {
     "name": "stdout",
     "output_type": "stream",
     "text": [
      "Line Count: 1910\n"
     ]
    }
   ],
   "source": [
    "#reading files\n",
    "fhand = open('mbox-short.txt')\n",
    "count = 0\n",
    "for line in fhand:\n",
    "    count = count + 1\n",
    "print('Line Count:', count)"
   ]
  },
  {
   "cell_type": "code",
   "execution_count": 5,
   "metadata": {},
   "outputs": [
    {
     "name": "stdout",
     "output_type": "stream",
     "text": [
      "character count: 94626\n"
     ]
    }
   ],
   "source": [
    "fhand = open('mbox-short.txt')\n",
    "print('character count:', len(fhand.read()))"
   ]
  },
  {
   "cell_type": "code",
   "execution_count": 8,
   "metadata": {},
   "outputs": [
    {
     "name": "stdout",
     "output_type": "stream",
     "text": [
      "From: stephen.marquard@uct.ac.za\n",
      "\n",
      "From: louis@media.berkeley.edu\n",
      "\n",
      "From: zqian@umich.edu\n",
      "\n",
      "From: rjlowe@iupui.edu\n",
      "\n",
      "From: zqian@umich.edu\n",
      "\n",
      "From: rjlowe@iupui.edu\n",
      "\n",
      "From: cwen@iupui.edu\n",
      "\n",
      "From: cwen@iupui.edu\n",
      "\n",
      "From: gsilver@umich.edu\n",
      "\n",
      "From: gsilver@umich.edu\n",
      "\n",
      "From: zqian@umich.edu\n",
      "\n",
      "From: gsilver@umich.edu\n",
      "\n",
      "From: wagnermr@iupui.edu\n",
      "\n",
      "From: zqian@umich.edu\n",
      "\n",
      "From: antranig@caret.cam.ac.uk\n",
      "\n",
      "From: gopal.ramasammycook@gmail.com\n",
      "\n",
      "From: david.horwitz@uct.ac.za\n",
      "\n",
      "From: david.horwitz@uct.ac.za\n",
      "\n",
      "From: david.horwitz@uct.ac.za\n",
      "\n",
      "From: david.horwitz@uct.ac.za\n",
      "\n",
      "From: stephen.marquard@uct.ac.za\n",
      "\n",
      "From: louis@media.berkeley.edu\n",
      "\n",
      "From: louis@media.berkeley.edu\n",
      "\n",
      "From: ray@media.berkeley.edu\n",
      "\n",
      "From: cwen@iupui.edu\n",
      "\n",
      "From: cwen@iupui.edu\n",
      "\n",
      "From: cwen@iupui.edu\n",
      "\n"
     ]
    }
   ],
   "source": [
    "#search through a file\n",
    "fhand = open('mbox-short.txt') \n",
    "count = 0\n",
    "for line in fhand:\n",
    "    if line.startswith('From:'): \n",
    "        print(line)\n"
   ]
  },
  {
   "cell_type": "code",
   "execution_count": 9,
   "metadata": {},
   "outputs": [
    {
     "name": "stdout",
     "output_type": "stream",
     "text": [
      "From: stephen.marquard@uct.ac.za\n",
      "From: louis@media.berkeley.edu\n",
      "From: zqian@umich.edu\n",
      "From: rjlowe@iupui.edu\n",
      "From: zqian@umich.edu\n",
      "From: rjlowe@iupui.edu\n",
      "From: cwen@iupui.edu\n",
      "From: cwen@iupui.edu\n",
      "From: gsilver@umich.edu\n",
      "From: gsilver@umich.edu\n",
      "From: zqian@umich.edu\n",
      "From: gsilver@umich.edu\n",
      "From: wagnermr@iupui.edu\n",
      "From: zqian@umich.edu\n",
      "From: antranig@caret.cam.ac.uk\n",
      "From: gopal.ramasammycook@gmail.com\n",
      "From: david.horwitz@uct.ac.za\n",
      "From: david.horwitz@uct.ac.za\n",
      "From: david.horwitz@uct.ac.za\n",
      "From: david.horwitz@uct.ac.za\n",
      "From: stephen.marquard@uct.ac.za\n",
      "From: louis@media.berkeley.edu\n",
      "From: louis@media.berkeley.edu\n",
      "From: ray@media.berkeley.edu\n",
      "From: cwen@iupui.edu\n",
      "From: cwen@iupui.edu\n",
      "From: cwen@iupui.edu\n"
     ]
    }
   ],
   "source": [
    "#rstrip() removes white space\n",
    "fhand = open('mbox-short.txt') \n",
    "for line in fhand:\n",
    "    line = line.rstrip()\n",
    "    if line.startswith('From:'):\n",
    "        print(line)"
   ]
  },
  {
   "cell_type": "code",
   "execution_count": 10,
   "metadata": {},
   "outputs": [
    {
     "name": "stdout",
     "output_type": "stream",
     "text": [
      "From: stephen.marquard@uct.ac.za\n",
      "From: louis@media.berkeley.edu\n",
      "From: zqian@umich.edu\n",
      "From: rjlowe@iupui.edu\n",
      "From: zqian@umich.edu\n",
      "From: rjlowe@iupui.edu\n",
      "From: cwen@iupui.edu\n",
      "From: cwen@iupui.edu\n",
      "From: gsilver@umich.edu\n",
      "From: gsilver@umich.edu\n",
      "From: zqian@umich.edu\n",
      "From: gsilver@umich.edu\n",
      "From: wagnermr@iupui.edu\n",
      "From: zqian@umich.edu\n",
      "From: antranig@caret.cam.ac.uk\n",
      "From: gopal.ramasammycook@gmail.com\n",
      "From: david.horwitz@uct.ac.za\n",
      "From: david.horwitz@uct.ac.za\n",
      "From: david.horwitz@uct.ac.za\n",
      "From: david.horwitz@uct.ac.za\n",
      "From: stephen.marquard@uct.ac.za\n",
      "From: louis@media.berkeley.edu\n",
      "From: louis@media.berkeley.edu\n",
      "From: ray@media.berkeley.edu\n",
      "From: cwen@iupui.edu\n",
      "From: cwen@iupui.edu\n",
      "From: cwen@iupui.edu\n"
     ]
    }
   ],
   "source": [
    "#continue\n",
    "fhand = open('mbox-short.txt') \n",
    "for line in fhand:\n",
    "    line = line.rstrip()\n",
    "    # Skip 'uninteresting lines'\n",
    "    if not line.startswith('From:'):\n",
    "        continue\n",
    "    # Process our 'interesting' line\n",
    "    print(line)\n"
   ]
  },
  {
   "cell_type": "code",
   "execution_count": 11,
   "metadata": {},
   "outputs": [
    {
     "name": "stdout",
     "output_type": "stream",
     "text": [
      "From stephen.marquard@uct.ac.za Sat Jan  5 09:14:16 2008\n",
      "X-Authentication-Warning: nakamura.uits.iupui.edu: apache set sender to stephen.marquard@uct.ac.za using -f\n",
      "From: stephen.marquard@uct.ac.za\n",
      "Author: stephen.marquard@uct.ac.za\n",
      "From david.horwitz@uct.ac.za Fri Jan  4 07:02:32 2008\n",
      "X-Authentication-Warning: nakamura.uits.iupui.edu: apache set sender to david.horwitz@uct.ac.za using -f\n",
      "From: david.horwitz@uct.ac.za\n",
      "Author: david.horwitz@uct.ac.za\n",
      "r39753 | david.horwitz@uct.ac.za | 2008-01-04 13:05:51 +0200 (Fri, 04 Jan 2008) | 1 line\n",
      "From david.horwitz@uct.ac.za Fri Jan  4 06:08:27 2008\n",
      "X-Authentication-Warning: nakamura.uits.iupui.edu: apache set sender to david.horwitz@uct.ac.za using -f\n",
      "From: david.horwitz@uct.ac.za\n",
      "Author: david.horwitz@uct.ac.za\n",
      "From david.horwitz@uct.ac.za Fri Jan  4 04:49:08 2008\n",
      "X-Authentication-Warning: nakamura.uits.iupui.edu: apache set sender to david.horwitz@uct.ac.za using -f\n",
      "From: david.horwitz@uct.ac.za\n",
      "Author: david.horwitz@uct.ac.za\n",
      "From david.horwitz@uct.ac.za Fri Jan  4 04:33:44 2008\n",
      "X-Authentication-Warning: nakamura.uits.iupui.edu: apache set sender to david.horwitz@uct.ac.za using -f\n",
      "From: david.horwitz@uct.ac.za\n",
      "Author: david.horwitz@uct.ac.za\n",
      "From stephen.marquard@uct.ac.za Fri Jan  4 04:07:34 2008\n",
      "X-Authentication-Warning: nakamura.uits.iupui.edu: apache set sender to stephen.marquard@uct.ac.za using -f\n",
      "From: stephen.marquard@uct.ac.za\n",
      "Author: stephen.marquard@uct.ac.za\n"
     ]
    }
   ],
   "source": [
    "#.find()\n",
    "fhand = open('mbox-short.txt') \n",
    "for line in fhand:\n",
    "    line = line.rstrip()\n",
    "    if line.find('@uct.ac.za') == -1: \n",
    "        continue \n",
    "    print(line)"
   ]
  },
  {
   "cell_type": "code",
   "execution_count": 13,
   "metadata": {},
   "outputs": [
    {
     "name": "stdout",
     "output_type": "stream",
     "text": [
      "There were 27 subject lines in mbox-short.txt\n"
     ]
    }
   ],
   "source": [
    "#allow user to search file (eg mbox.txt or mbox-short.txt)\n",
    "fname = input('Enter the file name: ') \n",
    "fhand = open(fname)\n",
    "count = 0\n",
    "for line in fhand:\n",
    "    if line.startswith('Subject:'): \n",
    "        count = count + 1\n",
    "print('There were', count, 'subject lines in', fname)"
   ]
  },
  {
   "cell_type": "code",
   "execution_count": 15,
   "metadata": {},
   "outputs": [
    {
     "name": "stdout",
     "output_type": "stream",
     "text": [
      "File cannot be opened: ww\n",
      "There were 0 subject lines in ww\n"
     ]
    },
    {
     "ename": "",
     "evalue": "",
     "output_type": "error",
     "traceback": [
      "\u001b[1;31mThe Kernel crashed while executing code in the the current cell or a previous cell. Please review the code in the cell(s) to identify a possible cause of the failure. Click <a href='https://aka.ms/vscodeJupyterKernelCrash'>here</a> for more info. View Jupyter <a href='command:jupyter.viewOutput'>log</a> for further details."
     ]
    }
   ],
   "source": [
    "#using try, except and open\n",
    "fname = input('Enter the file name: ') \n",
    "try:\n",
    "    fhand = open(fname) \n",
    "except:\n",
    "    print('File cannot be opened:', fname)\n",
    "    exit()\n",
    "count = 0\n",
    "for line in fhand:\n",
    "    if line.startswith('Subject:'):\n",
    "        count = count + 1\n",
    "print('There were', count, 'subject lines in', fname)"
   ]
  },
  {
   "cell_type": "code",
   "execution_count": 2,
   "metadata": {},
   "outputs": [
    {
     "name": "stdout",
     "output_type": "stream",
     "text": [
      "<_io.TextIOWrapper name='output.txt' mode='w' encoding='UTF-8'>\n"
     ]
    }
   ],
   "source": [
    "#writing files\n",
    "\n",
    "#this clears a textfile\n",
    "fout = open('output.txt', 'w')\n",
    "print(fout)"
   ]
  },
  {
   "cell_type": "code",
   "execution_count": 6,
   "metadata": {},
   "outputs": [],
   "source": [
    "fout = open('output.txt', 'w')\n",
    "line1 = \"This here's the wattle,\\n\"\n",
    "fout.write(line1)\n",
    "line2 = 'the emblem of our land.\\n'\n",
    "fout.write(line2)\n",
    "fout.close() #must include!"
   ]
  },
  {
   "cell_type": "code",
   "execution_count": 8,
   "metadata": {},
   "outputs": [
    {
     "name": "stdout",
     "output_type": "stream",
     "text": [
      "1 2\t 3\n",
      " 4\n",
      "'1 2\\t 3\\n 4'\n"
     ]
    }
   ],
   "source": [
    "#debugging\n",
    "s = '1 2\\t 3\\n 4' \n",
    "print(s)\n",
    "print(repr(s))"
   ]
  },
  {
   "cell_type": "code",
   "execution_count": 14,
   "metadata": {},
   "outputs": [
    {
     "name": "stdout",
     "output_type": "stream",
     "text": [
      "What to epxect of Kwedinis in Bali:\n",
      " Board: Twin Pin\n",
      " Style: relaxed\n",
      " Trick: trop pop\n",
      "--------------\n",
      " Board: Fever\n",
      " Style: noob\n",
      " Trick: pop up\n",
      "--------------\n",
      " Board: Mayhem\n",
      " Style: agressive\n",
      " Trick: breaks board\n",
      "--------------\n",
      " Board: Safari Swallow\n",
      " Style: flowy\n",
      " Trick: airs\n",
      "--------------\n",
      " Board: f22\n",
      " Style: confident\n",
      " Trick: cut back\n",
      "--------------\n",
      " Board: Twin Pin\n",
      " Style: supreme kook\n",
      " Trick: getting tubed\n",
      "--------------\n",
      " Board: Bilt\n",
      " Style: durban style\n",
      " Trick: lip riding\n",
      "--------------\n",
      "Computers random guess of who will get the biggest tube: Rob\n"
     ]
    }
   ],
   "source": [
    "fhand = open(\"bali.txt\")\n",
    "for line in fhand:\n",
    "    if line.startswith(\"Name:\") == 0:\n",
    "        print(line.rstrip())\n",
    "    \n"
   ]
  }
 ],
 "metadata": {
  "interpreter": {
   "hash": "aee8b7b246df8f9039afb4144a1f6fd8d2ca17a180786b69acc140d282b71a49"
  },
  "kernelspec": {
   "display_name": "Python 3.10.2 64-bit",
   "language": "python",
   "name": "python3"
  },
  "language_info": {
   "codemirror_mode": {
    "name": "ipython",
    "version": 3
   },
   "file_extension": ".py",
   "mimetype": "text/x-python",
   "name": "python",
   "nbconvert_exporter": "python",
   "pygments_lexer": "ipython3",
   "version": "3.10.2"
  },
  "orig_nbformat": 4
 },
 "nbformat": 4,
 "nbformat_minor": 2
}
