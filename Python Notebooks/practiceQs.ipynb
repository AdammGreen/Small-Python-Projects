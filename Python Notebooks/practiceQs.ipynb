{
 "cells": [
  {
   "cell_type": "code",
   "execution_count": 71,
   "metadata": {},
   "outputs": [
    {
     "name": "stdout",
     "output_type": "stream",
     "text": [
      "81 is bigger than all 3\n"
     ]
    }
   ],
   "source": [
    "myList = [78,89,56]\n",
    "x = 81\n",
    "myList.sort(reverse=True)\n",
    "\n",
    "if x > myList[0] and myList[1] and myList[2]:\n",
    "    print(\"81 is bigger than all 3\")\n",
    "else:\n",
    "    print(\"81 is not bigger than all 3\")"
   ]
  },
  {
   "cell_type": "code",
   "execution_count": 12,
   "metadata": {},
   "outputs": [
    {
     "name": "stdout",
     "output_type": "stream",
     "text": [
      "no\n"
     ]
    }
   ],
   "source": [
    "yourNum = int(input(\"enter a number\"))\n",
    "nums = [89,78,90,88]\n",
    "\n",
    "nums.sort(reverse = True)\n",
    "\n",
    "if yourNum > nums[0]:\n",
    "    print(\"Is largest\") \n",
    "else:\n",
    "    print(\"no\")"
   ]
  },
  {
   "cell_type": "code",
   "execution_count": 39,
   "metadata": {},
   "outputs": [
    {
     "name": "stdout",
     "output_type": "stream",
     "text": [
      "[200, 202, 204, 206, 208, 220, 222, 224, 226, 228, 240, 242, 244, 246, 248, 260, 262, 264, 266, 268, 280, 282, 284, 286, 288, 400]\n"
     ]
    }
   ],
   "source": [
    "thisList = [100]\n",
    "\n",
    "for x in range(101,401):\n",
    "    thisList.append(x)\n",
    "   \n",
    "newList = []\n",
    "for i in thisList:\n",
    "    y = str(i)\n",
    "\n",
    "    if int(y[0]) % 2 == 0 and int(y[1]) % 2 == 0 and int(y[2]) % 2 == 0:\n",
    "        newList.append(i)\n",
    "   \n",
    "print(newList)"
   ]
  },
  {
   "cell_type": "code",
   "execution_count": 67,
   "metadata": {},
   "outputs": [
    {
     "name": "stdout",
     "output_type": "stream",
     "text": [
      "no duplicates\n",
      "None\n",
      "has duplicates\n",
      "None\n",
      "has duplicates\n",
      "None\n"
     ]
    }
   ],
   "source": [
    "aList = ['a','b','c']\n",
    "zList = ['a','a','c']\n",
    "cList = ['a','b','c','a']\n",
    "\n",
    "def has_duplicates(x):\n",
    "\n",
    "    for i in x:\n",
    "        res = x.count(i)\n",
    "            \n",
    "        if res > 1:\n",
    "            duplicates = True\n",
    "            break\n",
    "        else:\n",
    "            duplicates = False\n",
    " \n",
    "          \n",
    "    if duplicates == True:\n",
    "       print(\"has duplicates\")\n",
    "    else:\n",
    "        print(\"no duplicates\")\n",
    "\n",
    "print(has_duplicates(aList))\n",
    "print(has_duplicates(zList))\n",
    "print(has_duplicates(cList))"
   ]
  },
  {
   "cell_type": "code",
   "execution_count": 143,
   "metadata": {},
   "outputs": [
    {
     "name": "stdout",
     "output_type": "stream",
     "text": [
      "['30/7/2002', '14/1/2002', '24/7/2002', '23/2/2002', '25/6/2002', '11/11/2002', '19/4/2002', '10/9/2002', '2/6/2002', '16/4/2002', '11/1/2002', '20/12/2002', '22/4/2002', '23/2/2002', '4/12/2002', '16/5/2002', '2/9/2002', '17/1/2002', '13/11/2002', '27/4/2002', '10/10/2002', '25/6/2002', '31/12/2002']\n",
      "has duplicates\n",
      "None\n"
     ]
    }
   ],
   "source": [
    "import random\n",
    "\n",
    "birthdays = []\n",
    "\n",
    "for i in range(1,24):\n",
    "    date = str(random.randint(1,31))\n",
    "    month = str(random.randint(1,12))\n",
    "    year = str(2002)\n",
    "\n",
    "    birthday = (date+\"/\"+month+\"/\"+year)\n",
    "    birthdays.append(birthday)\n",
    "\n",
    "print(birthdays)\n",
    "\n",
    "#same as last example\n",
    "def has_duplicates(x):\n",
    "    for i in x:\n",
    "        res = x.count(i)\n",
    "        if res > 1:\n",
    "            duplicates = True\n",
    "            break\n",
    "        else:\n",
    "            duplicates = False\n",
    "    \n",
    "    if duplicates == True:\n",
    "       print(\"has duplicates\")\n",
    "    else:\n",
    "        print(\"no duplicates\")\n",
    "\n",
    "    \n",
    "print(has_duplicates(birthdays))\n",
    "\n",
    "#didn't do probability part\n"
   ]
  }
 ],
 "metadata": {
  "interpreter": {
   "hash": "aee8b7b246df8f9039afb4144a1f6fd8d2ca17a180786b69acc140d282b71a49"
  },
  "kernelspec": {
   "display_name": "Python 3.10.2 64-bit",
   "language": "python",
   "name": "python3"
  },
  "language_info": {
   "codemirror_mode": {
    "name": "ipython",
    "version": 3
   },
   "file_extension": ".py",
   "mimetype": "text/x-python",
   "name": "python",
   "nbconvert_exporter": "python",
   "pygments_lexer": "ipython3",
   "version": "3.10.2"
  },
  "orig_nbformat": 4
 },
 "nbformat": 4,
 "nbformat_minor": 2
}
