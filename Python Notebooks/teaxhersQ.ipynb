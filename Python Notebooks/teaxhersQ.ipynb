{
 "cells": [
  {
   "cell_type": "code",
   "execution_count": 8,
   "metadata": {},
   "outputs": [
    {
     "name": "stdout",
     "output_type": "stream",
     "text": [
      "1021950 Adam Green\n"
     ]
    }
   ],
   "source": [
    "class Student:\n",
    "    def __init__(self,student_id, student_name, student_surname):\n",
    "        self.student_id = student_id \n",
    "        self.student_name = student_name\n",
    "        self.student_surname = student_surname\n",
    "\n",
    "child = Student('1021950','Adam','Green')\n",
    "\n",
    "print(child.student_id,child.student_name,child.student_surname)"
   ]
  },
  {
   "cell_type": "code",
   "execution_count": 18,
   "metadata": {},
   "outputs": [
    {
     "name": "stdout",
     "output_type": "stream",
     "text": [
      "('1', 'Adam', 3040)\n",
      "Not enough funds\n",
      "no fee as no transaction\n",
      "('2', 'Pary', 106)\n"
     ]
    }
   ],
   "source": [
    "class BankAccount:\n",
    "    def __init__(self,accountNumber,name,balance,fee):\n",
    "        self.accountNumber = accountNumber\n",
    "        self.name = name\n",
    "        self.balance = balance\n",
    "        self.fee = fee\n",
    "    \n",
    "    def Deposit(self,deposit):\n",
    "        self.balance = int(self.balance) + int(deposit)\n",
    "        return(self.balance)\n",
    "    \n",
    "    def Withdrawal(self, withdrawn):\n",
    "        if int(self.balance) > int(withdrawn):\n",
    "            self.balance = int(self.balance) - int(withdrawn)\n",
    "            self.fee = True\n",
    "            return(self.balance)\n",
    "        else:\n",
    "            self.fee = False\n",
    "            print(\"Not enough funds\")\n",
    "\n",
    "    def bankFees(self):\n",
    "        if self.fee == True:\n",
    "            bankfee = int(self.balance)*(5/100)\n",
    "            self.balance = int(self.balance) - int(bankfee)\n",
    "            return(self.balance)\n",
    "        else:\n",
    "            print(\"no fee as no transaction\")\n",
    "    \n",
    "    def display(self):\n",
    "        return(self.accountNumber,self.name,self.balance)\n",
    "\n",
    "account1 = BankAccount(\"1\",\"Adam\",\"3000\",True)\n",
    "account2 = BankAccount(\"2\",\"Pary\",\"6\",True)\n",
    "\n",
    "account1.Deposit(\"250\")\n",
    "account1.Withdrawal(\"50\")\n",
    "account1.bankFees()\n",
    "print(account1.display())\n",
    "\n",
    "account2.Deposit(\"100\")\n",
    "account2.Withdrawal(\"250\")\n",
    "account2.bankFees()\n",
    "print(account2.display())\n"
   ]
  },
  {
   "cell_type": "code",
   "execution_count": 20,
   "metadata": {},
   "outputs": [
    {
     "name": "stdout",
     "output_type": "stream",
     "text": [
      "Hotline Bling by Drake\n",
      "Willy by Drake\n",
      "hello by Drake\n"
     ]
    }
   ],
   "source": [
    "class Song:\n",
    "    def __init__(self,title,artist,album,track_number):\n",
    "        self.title = title\n",
    "        self.artist = artist\n",
    "        self.album = album\n",
    "        self.track_number = track_number\n",
    "\n",
    "        artist.add_song(self)\n",
    "\n",
    "class Album:\n",
    "    def __init__ (self,title,artist,year):\n",
    "        self.title = title\n",
    "        self.artist = artist\n",
    "        self.year = year\n",
    "\n",
    "        self.tracks = []\n",
    "\n",
    "        artist.add_album(self)\n",
    "\n",
    "    def add_track(self, title, artist = None):\n",
    "        if artist is None:\n",
    "            artist = self.artist\n",
    "\n",
    "        track_number = len(self.tracks)\n",
    "\n",
    "        song = Song(title,artist,self,track_number)\n",
    "\n",
    "        self.tracks.append(song)\n",
    "\n",
    "class Artist:\n",
    "    def __init__(self,name):\n",
    "        self.name = name\n",
    "\n",
    "        self.albums = []\n",
    "        self.songs = []\n",
    "\n",
    "    def add_album(self,album):\n",
    "        self.albums.append(album)\n",
    "\n",
    "    def add_song(self,song):\n",
    "        self.songs.append(song)\n",
    "\n",
    "class Playlist:\n",
    "    def __init__(self,name):\n",
    "        self.name = name\n",
    "        self.songs = []\n",
    "\n",
    "    def add_song(self,song):\n",
    "        self.songs.append(song)\n",
    "\n",
    "\n",
    "\n",
    "artist = Artist(\"Drake\")\n",
    "album = Album(\"Gods Plan\", artist, 2010)\n",
    "\n",
    "album.add_track(\"Hotline Bling\")\n",
    "album.add_track(\"Willy\")\n",
    "album.add_track(\"hello\")\n",
    "\n",
    "playlist = Playlist(\"Drake Mashup\")\n",
    "\n",
    "for song in album.tracks:\n",
    "    playlist.add_song(song)\n",
    "\n",
    "for song in playlist.songs:\n",
    "    print(song.title + \" by \" + str(song.artist.name))\n",
    "\n",
    "\n"
   ]
  }
 ],
 "metadata": {
  "interpreter": {
   "hash": "aee8b7b246df8f9039afb4144a1f6fd8d2ca17a180786b69acc140d282b71a49"
  },
  "kernelspec": {
   "display_name": "Python 3.10.2 64-bit",
   "language": "python",
   "name": "python3"
  },
  "language_info": {
   "name": "python",
   "version": "3.10.2"
  },
  "orig_nbformat": 4
 },
 "nbformat": 4,
 "nbformat_minor": 2
}
