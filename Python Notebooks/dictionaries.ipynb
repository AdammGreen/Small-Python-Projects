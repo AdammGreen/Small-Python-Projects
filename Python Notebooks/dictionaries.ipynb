{
 "cells": [
  {
   "cell_type": "code",
   "execution_count": 2,
   "metadata": {},
   "outputs": [
    {
     "name": "stdout",
     "output_type": "stream",
     "text": [
      "{'one': 'uno', 'two': 'dos', 'three': 'tres'}\n",
      "dos\n"
     ]
    }
   ],
   "source": [
    "eng2sp = {'one': 'uno', 'two': 'dos', 'three': 'tres'}\n",
    "\n",
    "print(eng2sp)\n",
    "print(eng2sp['two'])\n"
   ]
  },
  {
   "cell_type": "code",
   "execution_count": 8,
   "metadata": {},
   "outputs": [
    {
     "name": "stdout",
     "output_type": "stream",
     "text": [
      "{'b': 1, 'r': 1, 'o': 1, 'n': 1, 't': 1, 's': 1, 'a': 1, 'u': 1}\n"
     ]
    }
   ],
   "source": [
    "word = 'brontosaurus' \n",
    "d = dict()\n",
    "for c in word:\n",
    "    if c not in d: \n",
    "        d[c] = 1\n",
    "else:\n",
    "    d[c] = d[c] + 1\n",
    "print(d)\n"
   ]
  },
  {
   "cell_type": "code",
   "execution_count": 7,
   "metadata": {},
   "outputs": [
    {
     "name": "stdout",
     "output_type": "stream",
     "text": [
      "{'But': 1, 'soft': 1, 'what': 1, 'light': 1, 'through': 1, 'yonder': 1, 'window': 1, 'breaks': 1, 'It': 1, 'is': 3, 'the': 3, 'east': 1, 'and': 3, 'Juliet': 1, 'sun': 2, 'Arise': 1, 'fair': 1, 'kill': 1, 'envious': 1, 'moon': 1, 'Who': 1, 'already': 1, 'sick': 1, 'pale': 1, 'with': 1, 'grief': 1}\n"
     ]
    }
   ],
   "source": [
    "#textfile\n",
    "fname = input('Enter the file name: ')\n",
    "try:\n",
    "    fhand = open(fname) \n",
    "except:\n",
    "    print('File cannot be opened:', fname)\n",
    "    exit()\n",
    "counts = dict() \n",
    "for line in fhand:\n",
    "    words = line.split() \n",
    "    for word in words:\n",
    "        if word not in counts: \n",
    "            counts[word] = 1\n",
    "        else:\n",
    "            counts[word] += 1\n",
    "print(counts)\n"
   ]
  },
  {
   "cell_type": "code",
   "execution_count": 9,
   "metadata": {},
   "outputs": [
    {
     "name": "stdout",
     "output_type": "stream",
     "text": [
      "{'What': 1, 'to': 1, 'epxect': 1, 'of': 2, 'Kwedinis': 1, 'in': 1, 'Bali:': 1, 'Name:': 7, 'Ben': 1, 'Board:': 7, 'Twin': 2, 'Pin': 2, 'Style:': 7, 'relaxed': 1, 'Trick:': 7, 'trop': 1, 'pop': 2, '--------------': 7, 'Adam': 1, 'Fever': 1, 'noob': 1, 'up': 1, 'Brayden': 1, 'Mayhem': 1, 'agressive': 1, 'breaks': 1, 'board': 1, 'Rob': 2, 'Safari': 1, 'Swallow': 1, 'flowy': 1, 'airs': 1, 'Jake': 1, 'f22': 1, 'confident': 1, 'cut': 1, 'back': 1, 'Sam': 1, 'supreme': 1, 'kook': 1, 'getting': 1, 'tubed': 1, 'Chris': 1, 'Bilt': 1, 'durban': 1, 'style': 1, 'lip': 1, 'riding': 1, 'Computers': 1, 'random': 1, 'guess': 1, 'who': 1, 'will': 1, 'get': 1, 'the': 1, 'biggest': 1, 'tube:': 1}\n"
     ]
    }
   ],
   "source": [
    "fname = input('Enter the file name: ')\n",
    "try:\n",
    "    fhand = open(fname) \n",
    "except:\n",
    "    print('File cannot be opened:', fname)\n",
    "    exit()\n",
    "counts = dict() \n",
    "for line in fhand:\n",
    "    words = line.split() \n",
    "    for word in words:\n",
    "        if word not in counts: \n",
    "            counts[word] = 1\n",
    "        else:\n",
    "            counts[word] += 1\n",
    "print(counts)"
   ]
  }
 ],
 "metadata": {
  "interpreter": {
   "hash": "aee8b7b246df8f9039afb4144a1f6fd8d2ca17a180786b69acc140d282b71a49"
  },
  "kernelspec": {
   "display_name": "Python 3.10.2 64-bit",
   "language": "python",
   "name": "python3"
  },
  "language_info": {
   "codemirror_mode": {
    "name": "ipython",
    "version": 3
   },
   "file_extension": ".py",
   "mimetype": "text/x-python",
   "name": "python",
   "nbconvert_exporter": "python",
   "pygments_lexer": "ipython3",
   "version": "3.10.2"
  },
  "orig_nbformat": 4
 },
 "nbformat": 4,
 "nbformat_minor": 2
}
