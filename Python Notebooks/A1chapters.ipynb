{
 "cells": [
  {
   "cell_type": "code",
   "execution_count": 7,
   "metadata": {},
   "outputs": [
    {
     "name": "stdout",
     "output_type": "stream",
     "text": [
      "0\n",
      "1\n"
     ]
    }
   ],
   "source": [
    "a = 10%2\n",
    "b = 9%2\n",
    "print(a)\n",
    "print(b)\n",
    "\n"
   ]
  },
  {
   "cell_type": "code",
   "execution_count": 3,
   "metadata": {},
   "outputs": [
    {
     "name": "stdout",
     "output_type": "stream",
     "text": [
      "<class 'float'>\n"
     ]
    }
   ],
   "source": [
    "a =344.44\n",
    "print(type(a))"
   ]
  },
  {
   "cell_type": "code",
   "execution_count": 11,
   "metadata": {},
   "outputs": [
    {
     "name": "stdout",
     "output_type": "stream",
     "text": [
      "wow what luck\n"
     ]
    }
   ],
   "source": [
    "num = int(input(\"enter a number \\n\"))\n",
    "operation = (num*8)/4\n",
    "\n",
    "if operation == 2:\n",
    "    print(\"wow what luck\")\n",
    "else:\n",
    "    print(\"sounds right\")"
   ]
  },
  {
   "cell_type": "code",
   "execution_count": 13,
   "metadata": {},
   "outputs": [
    {
     "name": "stdout",
     "output_type": "stream",
     "text": [
      "x and y are equal\n"
     ]
    }
   ],
   "source": [
    "x = int(input(\"enter a x value \\n\"))\n",
    "y = int(input(\"enter a y value\"))\n",
    "\n",
    "if x < y:\n",
    "    print('x is less than y')\n",
    "elif x > y:\n",
    "    print('x is greater than y')\n",
    "else:\n",
    "    print('x and y are equal')"
   ]
  },
  {
   "cell_type": "code",
   "execution_count": null,
   "metadata": {},
   "outputs": [],
   "source": [
    "x = int(input(\"enter a x value \\n\"))\n",
    "y = int(input(\"enter a y value\"))\n",
    "\n",
    "if x == y:\n",
    "    print('x and y are equal')\n",
    "else:\n",
    "    if x < y:\n",
    "        print('x is less than y') \n",
    "    else:\n",
    "        print('x is greater than y')"
   ]
  },
  {
   "cell_type": "code",
   "execution_count": 14,
   "metadata": {},
   "outputs": [
    {
     "data": {
      "text/plain": [
       "True"
      ]
     },
     "execution_count": 14,
     "metadata": {},
     "output_type": "execute_result"
    }
   ],
   "source": [
    "x = 6\n",
    "y = 2\n",
    "x >= 2 and (x/y) > 2"
   ]
  },
  {
   "cell_type": "code",
   "execution_count": 39,
   "metadata": {},
   "outputs": [
    {
     "name": "stdout",
     "output_type": "stream",
     "text": [
      "0.0\n",
      "0.8175770148905239\n",
      "0.04833825707773898\n",
      "0.5642297911940893\n",
      "0.5452307820428142\n",
      "0.4951388088503309\n",
      "0.06734828919121949\n",
      "0.5870603433247581\n",
      "0.49842360915951744\n",
      "0.9527199753379566\n",
      "0.7262584117368481\n",
      "19\n",
      "willy\n"
     ]
    }
   ],
   "source": [
    "#max()\n",
    "#min()\n",
    "#len()\n",
    "\n",
    "import math\n",
    "import random\n",
    "\n",
    "print(math.log10(1))\n",
    "\n",
    "for i in range(10):\n",
    "    x = random.random() \n",
    "    print(x)\n",
    "\n",
    "print(random.randint(1,100))\n",
    "\n",
    "t = [6, 8, 4]\n",
    "random.choice(t)\n",
    "\n",
    "z = [\"willy\", \"wonky\", \"winner\"]\n",
    "print(random.choice(z))\n",
    "\n"
   ]
  }
 ],
 "metadata": {
  "interpreter": {
   "hash": "aee8b7b246df8f9039afb4144a1f6fd8d2ca17a180786b69acc140d282b71a49"
  },
  "kernelspec": {
   "display_name": "Python 3.10.2 64-bit",
   "language": "python",
   "name": "python3"
  },
  "language_info": {
   "codemirror_mode": {
    "name": "ipython",
    "version": 3
   },
   "file_extension": ".py",
   "mimetype": "text/x-python",
   "name": "python",
   "nbconvert_exporter": "python",
   "pygments_lexer": "ipython3",
   "version": "3.10.2"
  },
  "orig_nbformat": 4
 },
 "nbformat": 4,
 "nbformat_minor": 2
}
